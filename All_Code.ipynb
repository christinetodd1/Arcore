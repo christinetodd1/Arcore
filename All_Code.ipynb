{
  "nbformat": 4,
  "nbformat_minor": 0,
  "metadata": {
    "colab": {
      "name": "All Code",
      "provenance": [],
      "include_colab_link": true
    },
    "kernelspec": {
      "name": "python3",
      "display_name": "Python 3"
    }
  },
  "cells": [
    {
      "cell_type": "markdown",
      "metadata": {
        "id": "view-in-github",
        "colab_type": "text"
      },
      "source": [
        "<a href=\"https://colab.research.google.com/github/christinetodd1/Arcore/blob/master/All_Code.ipynb\" target=\"_parent\"><img src=\"https://colab.research.google.com/assets/colab-badge.svg\" alt=\"Open In Colab\"/></a>"
      ]
    },
    {
      "cell_type": "code",
      "metadata": {
        "id": "TEIgQ4QS9wxA",
        "colab_type": "code",
        "colab": {}
      },
      "source": [
        "#Movement\n",
        "            // handle speed change to give an fov kick\n",
        "            // only if the player is going to a run, is running and the fovkick is to be used\n",
        "            if (m_IsWalking != waswalking && m_UseFovKick && m_CharacterController.velocity.sqrMagnitude > 0)\n",
        "            {\n",
        "                StopAllCoroutines();\n",
        "                StartCoroutine(!m_IsWalking ? m_FovKick.FOVKickUp() : m_FovKick.FOVKickDown());\n",
        "            }\n",
        "        }"
      ],
      "execution_count": 0,
      "outputs": []
    },
    {
      "cell_type": "code",
      "metadata": {
        "id": "yYzfuy2d5l-X",
        "colab_type": "code",
        "colab": {}
      },
      "source": [
        " #Utilized ML Agents\n",
        " #Detecting collisions of an AI and doing something when those collisions happen\n",
        "  private void OnCollisionEnter(Collision other)\n",
        "    {\n",
        "        if (other.gameObject.CompareTag(\"agent\") && state == false)\n",
        "        {\n",
        "            myButton.GetComponent<Renderer>().material = onMaterial;\n",
        "            state = true;\n",
        "            //areaComponent.CreatePyramid(1, pyramidIndex);\n",
        "            tag = \"switchOn\";\n",
        "         # the material will change depending if the agent touches it\n",
        "\n",
        "            //PA.AcademyReset();\n",
        "            other.gameObject.transform.position = new Vector3(0, 25, 0);\n",
        "         #if the agent touches the switch, they will be transported to a new position\n",
        "        }\n",
        "        if (other.gameObject.CompareTag(\"agent\") && state == true)\n",
        "        {\n",
        "            myButton.GetComponent<Renderer>().material = onMaterial;\n",
        "            state = true;\n",
        "            //areaComponent.CreatePyramid(1, pyramidIndex);\n",
        "            tag = \"switchOff\";\n",
        "         # # the material will change depending if the agent touches it\n",
        "\n",
        "            //PA.AcademyReset();\n",
        "            other.gameObject.transform.position = new Vector3(0, 25, 0);\n",
        "        }\n",
        "        #player switch hit to win\n",
        "\n",
        "\n",
        "\n",
        "\n",
        "        if (other.gameObject.CompareTag(\"player 1\") && state == true)\n",
        "        {\n",
        "            myButton.GetComponent<Renderer>().material = onMaterial;\n",
        "            state = true;\n",
        "            //areaComponent.CreatePyramid(1, pyramidIndex);\n",
        "            tag = \"switchOn\";\n",
        "\n",
        "            //PA.AcademyReset();\n",
        "            other.gameObject.transform.position = new Vector3(0, 25, 0);\n",
        "        }\n",
        "\n",
        "        if (other.gameObject.CompareTag(\"player 1\") && state == true)\n",
        "        {\n",
        "            myButton.GetComponent<Renderer>().material = onMaterial;\n",
        "            state = true;\n",
        "            //areaComponent.CreatePyramid(1, pyramidIndex);\n",
        "            tag = \"switchOff\";\n",
        "          \n",
        "\n",
        "            //PA.AcademyReset();\n",
        "            other.gameObject.transform.position = new Vector3(0, 25, 0);\n",
        "\n",
        "        }\n",
        "    }\n",
        "}\n"
      ],
      "execution_count": 0,
      "outputs": []
    },
    {
      "cell_type": "code",
      "metadata": {
        "id": "SEPziAR47yxj",
        "colab_type": "code",
        "colab": {}
      },
      "source": [
        " #moves AI Around\n",
        " public void MoveAgent(float[] act)\n",
        "    {\n",
        "        var dirToGo = Vector3.zero; # variable to control forward/backward direction\n",
        "        var rotateDir = Vector3.zero;#variable to control rotation\n",
        "\n",
        "        if (brain.brainParameters.vectorActionSpaceType == SpaceType.continuous)\n",
        "        # moves AI within parameters\n",
        "        {\n",
        "            dirToGo = transform.forward * Mathf.Clamp(act[0], -1f, 1f);\n",
        "            rotateDir = transform.up * Mathf.Clamp(act[1], -1f, 1f);\n",
        "        }\n",
        "        else\n",
        "        {\n",
        "            var action = Mathf.FloorToInt(act[0]);\n",
        "            switch (action) \n",
        "            #moves in different directions\n",
        "            {\n",
        "                case 1:\n",
        "                    dirToGo = transform.forward * 1f;\n",
        "                    break;\n",
        "                case 2:\n",
        "                    dirToGo = transform.forward * -1f;\n",
        "                    break;\n",
        "                case 3:\n",
        "                    rotateDir = transform.up * 1f;\n",
        "                    break;\n",
        "                case 4:\n",
        "                    rotateDir = transform.up * -1f;\n",
        "                    break;\n",
        "            }\n",
        "        }\n",
        "        transform.Rotate(rotateDir, Time.deltaTime * 200f);\n",
        "        agentRb.AddForce(dirToGo * 2f, ForceMode.VelocityChange);\n",
        "     #adds velocity\n",
        "    }\n",
        "\n",
        "    public override void AgentAction(float[] vectorAction, string textAction)\n",
        "    {\n",
        "        AddReward(-1f / agentParameters.maxStep); #punishes AI if max steps reached\n",
        "        MoveAgent(vectorAction);\n",
        "    }\n"
      ],
      "execution_count": 0,
      "outputs": []
    },
    {
      "cell_type": "code",
      "metadata": {
        "id": "01nmCDsr9mvF",
        "colab_type": "code",
        "colab": {}
      },
      "source": [
        " #handles sound for jump\n",
        " private void PlayJumpSound()\n",
        "        {\n",
        "            m_AudioSource.clip = m_JumpSound;\n",
        "            m_AudioSource.Play();\n",
        "        }"
      ],
      "execution_count": 0,
      "outputs": []
    },
    {
      "cell_type": "code",
      "metadata": {
        "id": "n6Fp09Cu1Zov",
        "colab_type": "code",
        "colab": {}
      },
      "source": [
        "Remember that return causes a function to exit immediately. So our original implementation always ran for just one iteration. We can only return False if we've looked at every element of the list (and confirmed that none of them are lucky). Though we can return early if the answer is True:\n",
        "\n",
        "def has_lucky_number(nums):\n",
        "    for num in nums:\n",
        "        if num % 7 == 0:\n",
        "            return True\n",
        "    # We've exhausted the list without finding a lucky number\n",
        "    return False\n",
        "\n",
        "Here's a one-line version using a list comprehension with Python's any function (you can read about what it does by calling help(any)):\n",
        "\n",
        "def has_lucky_number(nums):\n",
        "    return any([num % 7 == 0 for num in nums])\n"
      ],
      "execution_count": 0,
      "outputs": []
    },
    {
      "cell_type": "code",
      "metadata": {
        "id": "8ZXeamiUztua",
        "colab_type": "code",
        "colab": {}
      },
      "source": [
        "#Now the researcher wants to supply multiple keywords to search for. Complete the function below to help her.\n",
        "\n",
        "def multi_word_search(documents, keywords):\n",
        "    keyword_to_indices = {}\n",
        "    for keyword in keywords:\n",
        "        keyword_to_indices[keyword] = word_search(documents, keyword)\n",
        "    return keyword_to_indices\n"
      ],
      "execution_count": 0,
      "outputs": []
    },
    {
      "cell_type": "code",
      "metadata": {
        "id": "HJ6dVSJo0IoP",
        "colab_type": "code",
        "colab": {}
      },
      "source": [
        "def word_search(documents, keyword):\n",
        "    # list to hold the indices of matching documents\n",
        "    indices = [] \n",
        "    # Iterate through the indices (i) and elements (doc) of documents\n",
        "    for i, doc in enumerate(documents):\n",
        "        # Split the string doc into a list of words (according to whitespace)\n",
        "        tokens = doc.split()\n",
        "        # Make a transformed list where we 'normalize' each word to facilitate matching.\n",
        "        # Periods and commas are removed from the end of each word, and it's set to all lowercase.\n",
        "        normalized = [token.rstrip('.,').lower() for token in tokens]\n",
        "        # Is there a match? If so, update the list of matching indices.\n",
        "        if keyword.lower() in normalized:\n",
        "            indices.append(i)\n",
        "    return indices"
      ],
      "execution_count": 0,
      "outputs": []
    },
    {
      "cell_type": "code",
      "metadata": {
        "id": "kCzCPGVA018l",
        "colab_type": "code",
        "colab": {}
      },
      "source": [
        "#Now the researcher wants to supply multiple keywords to search for. Complete the function below to help her.\n",
        "\n",
        "#(You're encouraged to use the `word_search` function you just wrote when implementing this function. Reusing code in this way makes your programs more robust and readable - and it saves typing!)\n",
        "\n",
        "def multi_word_search(documents, keywords):\n",
        "    keyword_to_indices = {}\n",
        "    for keyword in keywords:\n",
        "        keyword_to_indices[keyword] = word_search(documents, keyword)\n",
        "    return keyword_to_indices"
      ],
      "execution_count": 0,
      "outputs": []
    },
    {
      "cell_type": "code",
      "metadata": {
        "id": "7wwi_uKy5gvy",
        "colab_type": "code",
        "colab": {}
      },
      "source": [
        ""
      ],
      "execution_count": 0,
      "outputs": []
    },
    {
      "cell_type": "code",
      "metadata": {
        "id": "RMs_XtNz1hq9",
        "colab_type": "code",
        "colab": {}
      },
      "source": [
        "def select_second(L):\n",
        "    if len(L) < 2:\n",
        "        return None\n",
        "    return L[1]\n",
        "    \"\"\"Return the second element of the given list. If the list has no second\n",
        "    element, return None.\n",
        "    \"\"\"\n",
        "    pass\n",
        "    def losing_team_captain(teams):\n",
        "    return teams[-1][1]\n",
        "    \"\"\"Given a list of teams, where each team is a list of names, return the 2nd player (captain)\n",
        "    from the last listed team\n",
        "    \"\"\"\n",
        "    pass\n",
        "    def purple_shell(racers):\n",
        "    # One slick way to do the swap is x[0], x[-1] = x[-1], x[0].\n",
        "    temp = fighters[0]\n",
        "    racers[0] = racers[-1]\n",
        "    racers[-1] = temp\n",
        "\n",
        "    \"\"\"Given a list of racers, set the first place racer (at the front of the list) to last\n",
        "    place and vice versa.\n",
        "    \n",
        "    >>> r = [\"Zelda\", \"Gannon\", \"Link\"]\n",
        "    >>> master_sword(r)\n",
        "    >>> r\n",
        "    [\"Link\", \"Gannon\", \"Zelda\"]\n",
        "    \"\"\"\n",
        "    pass\n",
        "    a = [1, 2, 3]\n",
        "b = [1, [2, 3]]\n",
        "c = []\n",
        "d = [1, 2, 3][1:]\n",
        "\n",
        "# Put your predictions in the list below. Lengths should contain 4 numbers, the\n",
        "# first being the length of a, the second being the length of b and so on.\n",
        "lengths = [3,2,0,2]\n",
        "\n",
        "q4.check()\n",
        "def fashionably_late(arrivals, name): #categorizes names and times\n",
        "    order = arrivals.index(name)\n",
        "    return order >= len(arrivals) / 2 and order != len(arrivals) - 1\n",
        "\n",
        "    \"\"\"Given an ordered list of arrivals to the party and a name, return whether the guest with that\n",
        "    name was fashionably late.\n",
        "    \"\"\"\n",
        "    pass"
      ],
      "execution_count": 0,
      "outputs": []
    },
    {
      "cell_type": "code",
      "metadata": {
        "id": "CRuUrRrf2K5V",
        "colab_type": "code",
        "colab": {}
      },
      "source": [
        "import statistics \n",
        "values = [2, 3, 4]\n",
        "weights = [.3, .5, .2]\n",
        "\n",
        "s = 0\n",
        "total=0\n",
        "for x, y in zip(values, weights):\n",
        "    s += x * y #weighted sum\n",
        "    total += x\n",
        "\n",
        "average = total / len(values)\n",
        "print(average) \n",
        "print(\"Standard Deviation of values is % s \" \n",
        "                % (statistics.stdev(values))) "
      ],
      "execution_count": 0,
      "outputs": []
    },
    {
      "cell_type": "code",
      "metadata": {
        "id": "5HbAVgZv2V0F",
        "colab_type": "code",
        "colab": {}
      },
      "source": [
        "#This notebook uses tf.keras, a high-level API to build and train models in TensorFlow.\n",
        "from __future__ import absolute_import, division, print_function, unicode_literals\n",
        "try:\n",
        "  # %tensorflow_version only exists in Colab.\n",
        "  %tensorflow_version 2.x\n",
        "except Exception:\n",
        "  pass\n",
        "import tensorflow as tf\n",
        "from tensorflow import keras\n",
        "\n",
        "!pip install tensorflow-datasets\n",
        "import tensorflow_datasets as tfds\n",
        "tfds.disable_progress_bar()\n",
        "\n",
        "import numpy as np\n",
        "\n",
        "print(tf.__version__)\n",
        "\n",
        "#This is an example of binary—or two-class—classification, an important and widely applicable kind of machine learning problem."
      ],
      "execution_count": 0,
      "outputs": []
    },
    {
      "cell_type": "code",
      "metadata": {
        "id": "xwdc1ufo3fFv",
        "colab_type": "code",
        "colab": {}
      },
      "source": [
        "from __future__ import absolute_import, division, print_function, unicode_literals\n",
        "\n",
        "# TensorFlow and tf.keras\n",
        "import tensorflow as tf\n",
        "from tensorflow import keras\n",
        "#importing TenserFlow \n",
        "\n",
        "# Helper libraries\n",
        "import numpy as np\n",
        "import matplotlib.pyplot as plt\n",
        "\n",
        "print(tf.__version__)"
      ],
      "execution_count": 0,
      "outputs": []
    }
  ]
}